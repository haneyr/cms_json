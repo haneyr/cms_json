{
 "cells": [
  {
   "cell_type": "markdown",
   "id": "d2cba44a-3f66-40de-9bfa-71fbb220cf49",
   "metadata": {},
   "source": [
    "Copyright 2022 Google LLC. This software is provided as-is, without warranty or representation for any use or purpose. Your use of it is subject to your agreements with Google."
   ]
  },
  {
   "cell_type": "code",
   "execution_count": null,
   "id": "0c0c259e-ad86-4087-bdf3-003981dd043e",
   "metadata": {},
   "outputs": [],
   "source": [
    "import os\n",
    "from google.cloud import storage\n",
    "from google.cloud import bigquery"
   ]
  },
  {
   "cell_type": "code",
   "execution_count": null,
   "id": "3a960633-51be-44d8-8e9a-57744a7cde31",
   "metadata": {},
   "outputs": [],
   "source": [
    "region = \"us-central1\"\n",
    "\n",
    "bucket_name = \"uhc-json-test\" #GCS Bucket name where the CMS JSON resides\n",
    "prefix = \"test/\" #Path under the bucket to the file with a trailing / - if it's in the root, just \"\"\n",
    "filename = \"2022-07-01_UnitedHealthcare-Insurance-Company-of-New-York_Insurer_Behavior-Health_P3_in-network-rates.json.gz\" #Filename of the gzipped json\n",
    "json_file = os.path.splitext(filename)[0]\n",
    "\n",
    "bq_dataset = \"mydataset\" #BigQuery dataset \n",
    "bq_in_network_table = \"UHC_p3_in_network\" #Temporary in-network table name\n",
    "bq_remaining_table = \"UHC_p3\" #Temporary table for everything in the JSON except the in-network table\n",
    "merged_table = \"uhc_p3_merged\" #Name of the merged table\n"
   ]
  },
  {
   "cell_type": "code",
   "execution_count": null,
   "id": "c17b9898-29c3-4d1c-88ad-2edf35ca6217",
   "metadata": {},
   "outputs": [],
   "source": [
    "storage_client = storage.Client()\n",
    "\n",
    "bucket = storage_client.bucket(bucket_name)\n",
    "blob = bucket.blob(prefix+filename)\n",
    "blob.download_to_filename(filename)"
   ]
  },
  {
   "cell_type": "code",
   "execution_count": null,
   "id": "36700504-68c8-4bc2-b9cf-9ebb8b4487ad",
   "metadata": {},
   "outputs": [],
   "source": [
    "!gunzip $filename"
   ]
  },
  {
   "cell_type": "code",
   "execution_count": null,
   "id": "b01b1c40-7652-48d4-b26b-20f4f1897413",
   "metadata": {},
   "outputs": [],
   "source": [
    "!jq -c '.\"in_network\"[]' $json_file > {bq_in_network_table}.json"
   ]
  },
  {
   "cell_type": "code",
   "execution_count": null,
   "id": "ef83ade9-66f5-45fc-8424-53c3bd793e41",
   "metadata": {},
   "outputs": [],
   "source": [
    "!jq -c 'del(.\"in_network\")' $json_file > {bq_remaining_table}.json"
   ]
  },
  {
   "cell_type": "code",
   "execution_count": null,
   "id": "41584322-edf0-4131-bcd5-a76e1c74134f",
   "metadata": {},
   "outputs": [],
   "source": [
    "!bq --location={region} load  --autodetect --source_format=NEWLINE_DELIMITED_JSON {bq_dataset+\".\"+bq_in_network_table} {bq_in_network_table}.json"
   ]
  },
  {
   "cell_type": "code",
   "execution_count": null,
   "id": "d0eeb02f-0434-463a-b392-cc13759645a5",
   "metadata": {},
   "outputs": [],
   "source": [
    "!bq --location={region} load  --autodetect --source_format=NEWLINE_DELIMITED_JSON {bq_dataset+\".\"+bq_remaining_table} {bq_remaining_table}.json"
   ]
  },
  {
   "cell_type": "code",
   "execution_count": null,
   "id": "c3e47298-d738-4a7d-82ad-c60f674cccff",
   "metadata": {},
   "outputs": [],
   "source": [
    "client = bigquery.Client()\n",
    "\n",
    "query = (\n",
    "    \"\"\"CREATE TABLE {}.{} AS SELECT * FROM \n",
    "    (SELECT * FROM {}.{}),\n",
    "    (SELECT * FROM {}.{})\"\"\").format(bq_dataset,merged_table,bq_dataset,bq_remaining_table,bq_dataset,bq_in_network_table)\n",
    "\n",
    "query_job = client.query(query)\n",
    "result = query_job.result()\n",
    "\n",
    "print(result)"
   ]
  },
  {
   "cell_type": "code",
   "execution_count": null,
   "id": "e220c1a1-d807-4fef-ab5f-c6302afa6a2a",
   "metadata": {},
   "outputs": [],
   "source": [
    "#Optional - delete the intermediate tables\n",
    "client.delete_table(bq_dataset+\".\"+bq_in_network_table, not_found_ok=True)\n",
    "print(\"Deleted table '{}'.\".format(bq_in_network_table))\n",
    "\n",
    "client.delete_table(bq_dataset+\".\"+bq_remaining_table, not_found_ok=True)\n",
    "print(\"Deleted table '{}'.\".format(bq_remaining_table))"
   ]
  },
  {
   "cell_type": "code",
   "execution_count": null,
   "id": "fd2c2f51-5e93-4df7-b81f-19777d38d7da",
   "metadata": {},
   "outputs": [],
   "source": []
  }
 ],
 "metadata": {
  "environment": {
   "kernel": "python3",
   "name": "common-cpu.m94",
   "type": "gcloud",
   "uri": "gcr.io/deeplearning-platform-release/base-cpu:m94"
  },
  "kernelspec": {
   "display_name": "Python 3",
   "language": "python",
   "name": "python3"
  },
  "language_info": {
   "codemirror_mode": {
    "name": "ipython",
    "version": 3
   },
   "file_extension": ".py",
   "mimetype": "text/x-python",
   "name": "python",
   "nbconvert_exporter": "python",
   "pygments_lexer": "ipython3",
   "version": "3.7.12"
  }
 },
 "nbformat": 4,
 "nbformat_minor": 5
}
